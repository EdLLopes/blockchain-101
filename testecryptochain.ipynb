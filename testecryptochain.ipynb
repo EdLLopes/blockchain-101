{
 "cells": [
  {
   "cell_type": "code",
   "execution_count": 1,
   "metadata": {},
   "outputs": [],
   "source": [
    "import cryptochain as cryp"
   ]
  },
  {
   "cell_type": "code",
   "execution_count": 2,
   "metadata": {},
   "outputs": [],
   "source": [
    "%load_ext autoreload\n",
    "%autoreload 2"
   ]
  },
  {
   "cell_type": "code",
   "execution_count": 3,
   "metadata": {},
   "outputs": [],
   "source": [
    "# Criando o primeiro bloco de transações\n",
    "\n",
    "t1 = cryp.transaction(\"Alice\", \"Henrique\", 50, \"NFT - CryptoFEA\")\n",
    "t2 = cryp.transaction(\"Henrique\", \"Edgard\", 0.65, \"Comida\")\n",
    "t3 = cryp.transaction(\"Alice\", \"Edgard\", 0.7, \"Comida\")"
   ]
  },
  {
   "cell_type": "code",
   "execution_count": 4,
   "metadata": {},
   "outputs": [
    {
     "data": {
      "text/plain": [
       "[<cryptochain.Block at 0x13ed7237430>]"
      ]
     },
     "execution_count": 4,
     "metadata": {},
     "output_type": "execute_result"
    }
   ],
   "source": [
    "# Vamos criar o sistema de blockchain \n",
    "\n",
    "FEA_chain = cryp.Blockchain()\n",
    "FEA_chain.chain # Mostrando a chain com o bloco genesis"
   ]
  },
  {
   "cell_type": "code",
   "execution_count": 5,
   "metadata": {},
   "outputs": [
    {
     "name": "stdout",
     "output_type": "stream",
     "text": [
      "21585dd824e11087abc2b95e210750ffd4e90cd4b45f424702a849dbe566f9f9\n"
     ]
    }
   ],
   "source": [
    "# A gente pode observar o hash desse bloco\n",
    "\n",
    "print(FEA_chain.chain[0].hash)"
   ]
  },
  {
   "cell_type": "code",
   "execution_count": 6,
   "metadata": {},
   "outputs": [
    {
     "data": {
      "text/plain": [
       "[<cryptochain.Block at 0x13ed727cbb0>]"
      ]
     },
     "execution_count": 6,
     "metadata": {},
     "output_type": "execute_result"
    }
   ],
   "source": [
    "# Usando as transações acima vamos criar um novo bloco\n",
    "\n",
    "FEA_chain.create_block(t1, t2, t3)\n",
    "FEA_chain.uncorfimed_transactions # Visualizando os blocos que ainda não foram computados o hash"
   ]
  },
  {
   "cell_type": "code",
   "execution_count": 7,
   "metadata": {},
   "outputs": [
    {
     "name": "stdout",
     "output_type": "stream",
     "text": [
      "[<cryptochain.Block object at 0x0000013ED7237430>, <cryptochain.Block object at 0x0000013ED727CBB0>]\n",
      "0079a39b4d85fa26eafd4731507111f8bba8891b7bbe864f01b8d7fc59c57e0d\n"
     ]
    }
   ],
   "source": [
    "# Agora podemos usar a função de mineração e calcular o hash do bloco\n",
    "\n",
    "FEA_chain.mine()\n",
    "print(FEA_chain.chain) # Mostrando o novo bloco na chain\n",
    "print(FEA_chain.chain[1].hash) # Mostrando o hash do novo bloco"
   ]
  },
  {
   "cell_type": "code",
   "execution_count": 8,
   "metadata": {},
   "outputs": [
    {
     "data": {
      "text/plain": [
       "<cryptochain.Block at 0x13ed72a1a30>"
      ]
     },
     "execution_count": 8,
     "metadata": {},
     "output_type": "execute_result"
    }
   ],
   "source": [
    "# Criando o segundo bloco de transações\n",
    "\n",
    "t4 = cryp.transaction(\"Henrique\", \"Caroline\", 25, \"Veículo\")\n",
    "t5 = cryp.transaction(\"Edgard\", \"Caroline\", 10, \"Veículo\")\n",
    "t6 = cryp.transaction(\"Caroline\", \"Henrique\", 40, \"NFT - CryptoUSP\")\n",
    "\n",
    "FEA_chain.create_block(t4, t5, t6) # Criando o bloco\n",
    "FEA_chain.mine() # Mining o segundo bloco\n",
    "\n",
    "# Criando o terceiro bloco de transações\n",
    "\n",
    "t7 = cryp.transaction(\"Caroline\", \"Edgard\", 1, \"Comida\")\n",
    "t8 = cryp.transaction(\"Edgard\", \"Alice\", 3, \"Ativos Financeiros\")\n",
    "t9 = cryp.transaction(\"Alice\", \"Caroline\", 50, \"NFT - CryptoUSP\")\n",
    "t10 = cryp.transaction(\"Henrique\", \"Alice\", 20, \"Ativos Financeiros\")\n",
    "\n",
    "FEA_chain.create_block(t7, t8, t9, t10) # Criando bloco\n",
    "FEA_chain.mine() # Mining o terceiro bloco"
   ]
  },
  {
   "cell_type": "code",
   "execution_count": 9,
   "metadata": {},
   "outputs": [
    {
     "name": "stdout",
     "output_type": "stream",
     "text": [
      "21585dd824e11087abc2b95e210750ffd4e90cd4b45f424702a849dbe566f9f9\n",
      "0079a39b4d85fa26eafd4731507111f8bba8891b7bbe864f01b8d7fc59c57e0d\n",
      "007af7d1ff46d8aefbfee2227ad70dcdf3c6f3f944f7deb9032d4befbb310ada\n",
      "00cf1b5f163b3f0588b42ddca5547298a9ab2492eaace32f5756a8e95817bc40\n"
     ]
    }
   ],
   "source": [
    "# Vamos printar todos os Hashs\n",
    "for i in FEA_chain.chain:\n",
    "    print(i.hash)"
   ]
  },
  {
   "cell_type": "markdown",
   "metadata": {},
   "source": [
    "#### Vamos demonstrar abaixo como uma simples alteração no sistema, pode influenciar todos os hashs e fica facil de identificar em qual bloco foi feita a alteração.\n",
    "\n",
    "#### Supondo que o 'Edgard' tente alterar a transação 5 (t5), para constar que pagou menos em um veículo e ficar com 1 Coin a mais."
   ]
  },
  {
   "cell_type": "code",
   "execution_count": 10,
   "metadata": {},
   "outputs": [
    {
     "name": "stdout",
     "output_type": "stream",
     "text": [
      "21585dd824e11087abc2b95e210750ffd4e90cd4b45f424702a849dbe566f9f9\n",
      "0079a39b4d85fa26eafd4731507111f8bba8891b7bbe864f01b8d7fc59c57e0d\n",
      "00abc71d7049209dec3df9a8fca1faf3b94255d8317227cac91a9c927cd83a9e\n",
      "00711c260827e103254a338fdbda6fcdc7249d9f21a5304be3d6f651331d8e5c\n"
     ]
    }
   ],
   "source": [
    "# Resetando o sistema\n",
    "\n",
    "FEA_chain = cryp.Blockchain()\n",
    "\n",
    "# Criando o primeiro bloco de transações\n",
    "t1 = cryp.transaction(\"Alice\", \"Henrique\", 50, \"NFT - CryptoFEA\")\n",
    "t2 = cryp.transaction(\"Henrique\", \"Edgard\", 0.65, \"Comida\")\n",
    "t3 = cryp.transaction(\"Alice\", \"Edgard\", 0.7, \"Comida\")\n",
    "\n",
    "FEA_chain.create_block(t1, t2, t3) # Criando o bloco\n",
    "FEA_chain.mine() # Mining o primeiro bloco\n",
    "\n",
    "\n",
    "# Criando o segundo bloco de transações\n",
    "t4 = cryp.transaction(\"Henrique\", \"Caroline\", 25, \"Veículo\")\n",
    "t5 = cryp.transaction(\"Edgard\", \"Caroline\", 9, \"Veículo\") # Alteração foi feita aqui de 10 -> 9\n",
    "t6 = cryp.transaction(\"Caroline\", \"Henrique\", 40, \"NFT - CryptoUSP\")\n",
    "\n",
    "FEA_chain.create_block(t4, t5, t6) # Criando o bloco\n",
    "FEA_chain.mine() # Mining \n",
    "\n",
    "# Criando o terceiro bloco de transações\n",
    "t7 = cryp.transaction(\"Caroline\", \"Edgard\", 1, \"Comida\")\n",
    "t8 = cryp.transaction(\"Edgard\", \"Alice\", 3, \"Ativos Financeiros\")\n",
    "t9 = cryp.transaction(\"Alice\", \"Caroline\", 50, \"NFT - CryptoUSP\")\n",
    "t10 = cryp.transaction(\"Henrique\", \"Alice\", 20, \"Ativos Financeiros\")\n",
    "\n",
    "FEA_chain.create_block(t7, t8, t9, t10) # Criando bloco\n",
    "FEA_chain.mine() # Mining \n",
    "\n",
    "# Vamos printar todos os Hashs\n",
    "for i in FEA_chain.chain:\n",
    "    print(i.hash)"
   ]
  },
  {
   "cell_type": "markdown",
   "metadata": {},
   "source": [
    "### Percebeu a diferença? \n",
    "\n",
    "O terceiro hash saiu completamente diferente devido a mudança, e por isso todos hashs seguintes vão ser diferentes.\n",
    "\n",
    "Assim como todos que pertencem ao sistema tem o seu blockchain com todas transações, os hashs finais devem ser identicos para que um Player possa participar de transações."
   ]
  },
  {
   "cell_type": "code",
   "execution_count": null,
   "metadata": {},
   "outputs": [],
   "source": []
  }
 ],
 "metadata": {
  "kernelspec": {
   "display_name": "Python 3",
   "language": "python",
   "name": "python3"
  },
  "language_info": {
   "codemirror_mode": {
    "name": "ipython",
    "version": 3
   },
   "file_extension": ".py",
   "mimetype": "text/x-python",
   "name": "python",
   "nbconvert_exporter": "python",
   "pygments_lexer": "ipython3",
   "version": "3.8.5"
  }
 },
 "nbformat": 4,
 "nbformat_minor": 4
}
